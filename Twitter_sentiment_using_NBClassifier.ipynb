{
 "cells": [
  {
   "cell_type": "code",
   "execution_count": 1,
   "metadata": {},
   "outputs": [],
   "source": [
    "import tweepy\n",
    "\n",
    "consumer_key = 'Vq4bB2uFtk8HPnTqeZiLeazKD'\n",
    "consumer_sectret = 'X82CzwP36l1HR2U5g2sMnsoDayq2AEF0LGUWCheD9bcnm4tfjO'\n",
    "\n",
    "access_token = '912685818661134336-ol8QdSYGhjF40fpSwFikOdS69P7akXL'\n",
    "access_token_secret = 'Th2c1FUSULuivBHlsjCmkrXI69bEr3FCTcTMpR9PTCJhq'\n",
    "\n",
    "auth = tweepy.OAuthHandler(consumer_key, consumer_sectret)\n",
    "auth.set_access_token(access_token, access_token_secret)\n",
    "\n",
    "api = tweepy.API(auth)"
   ]
  },
  {
   "cell_type": "code",
   "execution_count": 75,
   "metadata": {},
   "outputs": [],
   "source": [
    "public_tweets = api.search(q='elections', count=100)"
   ]
  },
  {
   "cell_type": "code",
   "execution_count": 76,
   "metadata": {},
   "outputs": [],
   "source": [
    "tweet_list = []\n",
    "for tweet in public_tweets:\n",
    "    tweet_list.append(tweet.text)\n",
    "    #print(tweet.text)"
   ]
  },
  {
   "cell_type": "code",
   "execution_count": 77,
   "metadata": {},
   "outputs": [],
   "source": [
    "# tweet_list"
   ]
  },
  {
   "cell_type": "code",
   "execution_count": 78,
   "metadata": {},
   "outputs": [
    {
     "data": {
      "text/plain": [
       "100"
      ]
     },
     "execution_count": 78,
     "metadata": {},
     "output_type": "execute_result"
    }
   ],
   "source": [
    "len(tweet_list)"
   ]
  },
  {
   "cell_type": "code",
   "execution_count": 81,
   "metadata": {},
   "outputs": [],
   "source": [
    "# using textblob to obtain the sentiment (as per supevised learning)\n",
    "\n",
    "from textblob import TextBlob\n",
    "sentiments = [] \n",
    "for tweet in public_tweets:\n",
    "    analysis = TextBlob(tweet.text)\n",
    "    if 0 < analysis.sentiment.polarity:\n",
    "        sentiments.append(1)\n",
    "    else:\n",
    "        sentiments.append(0)\n",
    "        \n",
    "#for sentiment in sentiments:\n",
    "    #print(sentiment)"
   ]
  },
  {
   "cell_type": "code",
   "execution_count": 82,
   "metadata": {},
   "outputs": [
    {
     "name": "stdout",
     "output_type": "stream",
     "text": [
      "                                                tweet  sentiment\n",
      "0   RT @ImaanZHazir: Any hope PTI had of making ev...          0\n",
      "1   RT @MsPackyetti: Whatever the conversation abo...          0\n",
      "2   RT @TrollSiddaramai: My Congress government is...          1\n",
      "3   RT @Hardik_Aatekar: In Haryana Jatts.\\nIn Maha...          0\n",
      "4   RT @MotherJones: The Federal Elections Commiss...          0\n",
      "5   RT @samasmrati: Hi @ArvindKejriwal – You just ...          1\n",
      "6   RT @Wamagaisa: Mr President @edmnangagwa you h...          1\n",
      "7   RT @charliekirk11: If we really wanted to root...          1\n",
      "8   @postier12 @AneSucre Je n’oublie pas que lorsq...          0\n",
      "9   @SpeakerRyan YOU JUMPED ON MORON TRUMP BANDWAG...          0\n",
      "10  How can you campaign after winning elections? ...          1\n",
      "11  RT @rishibagree: Congress has given minority s...          0\n",
      "12  RT @M_Star_Online: Elections scare big busines...          0\n",
      "13  RT @TeamPelosi: Paul Ryan and every single Rep...          0\n",
      "14  @cnare @ProudResister @IvankaTrump Both Partie...          1\n",
      "15  RT @DurgaMenon: Lingayats constitute abt 19% o...          1\n",
      "16  RT @M_Star_Online: Elections scare big busines...          0\n",
      "17  RT @ImaanZHazir: Any hope PTI had of making ev...          0\n",
      "18  RT @ProudResister: Russia is interfering in ou...          0\n",
      "19  COLOMBIA: Congressional Elections Support Macr...          0\n",
      "20  RT @rishibagree: Congress has given minority s...          0\n",
      "21  RT @EmbassyofRussia: Ukraine yet again breaks ...          0\n",
      "22  RT @ANI: People of BJP &amp; NDA fear that if ...          0\n",
      "23  RT @krassenstein: The last mid-term elections ...          0\n",
      "24  @ShashiTharoor - Youths foxed, jobs lost, oppo...          0\n",
      "25  RT @tedcruz: Hollywood liberals have made thei...          1\n",
      "26  RT @krassenstein: The last mid-term elections ...          0\n",
      "27  RT @guardiannews: Pussy Riot protest against P...          1\n",
      "28  RT @iMac_too: Congratulations Pappu @officeofr...          1\n",
      "29  RT @ProudResister: Russia is interfering in ou...          0\n",
      "..                                                ...        ...\n",
      "70  RT @spectatorindex: Putin's vote share in pres...          0\n",
      "71  RT @charliekirk11: If we really wanted to root...          1\n",
      "72  On nous dit que \"Les résultats aux élections l...          0\n",
      "73  RT @Liaqyat: Vladimir Putin won elections with...          0\n",
      "74  RT @slpng_giants: Let’s not forget that Robert...          1\n",
      "75  RT @slpng_giants: Let’s not forget that Robert...          1\n",
      "76  RT @TeamPelosi: Paul Ryan and every single Rep...          0\n",
      "77  RT @TrollSiddaramai: My Congress government is...          1\n",
      "78  RT @RMConservative: This week may very well de...          1\n",
      "79  TONIGHT: Don't miss a chance to hear from the ...          0\n",
      "80  RT @Afonin_Y: Нашлось много дураков и лизоблюд...          0\n",
      "81  RT @pbhushan1: Disgraceful behavior by lawyers...          0\n",
      "82  RT @Aagan86: Blow to @BJP4Bengal @SSAhluwaliaM...          0\n",
      "83  #Burundi Via son secrétaire général, le sénat ...          0\n",
      "84  RT @YRDeshmukh: The extremely shortsighted dec...          1\n",
      "85  RT @srl: Here is a (redacted) transcript of a ...          0\n",
      "86  RT @TeamPelosi: Paul Ryan and every single Rep...          0\n",
      "87  Prime Minister @narendramodi ‘s\\ncongratulator...          0\n",
      "88  RT @TeamPelosi: Paul Ryan and every single Rep...          0\n",
      "89  RT @tedcruz: Hollywood liberals have made thei...          1\n",
      "90  RT @MaggieSeverns: The GOP megadonor shaping t...          1\n",
      "91  RT @rishibagree: Congress has given minority s...          0\n",
      "92  RT @TeamPelosi: Paul Ryan and every single Rep...          0\n",
      "93  @IngrahamAngle the extent to which the Mueller...          0\n",
      "94  RT @JaclynCorin: Midterm elections be like htt...          0\n",
      "95  RT @JordanUhl: MySpace: We’re a social network...          1\n",
      "96  Bureau exécutif extraordinaire à @enmarchefr. ...          0\n",
      "97  RT @namo_office: PM @narendramodi had a teleph...          0\n",
      "98  IK was, is my favourite but his decisions are ...          0\n",
      "99  RT @krassenstein: The last mid-term elections ...          0\n",
      "\n",
      "[100 rows x 2 columns]\n"
     ]
    }
   ],
   "source": [
    "import pandas as pd\n",
    "\n",
    "combined_list = list(zip(tweet_list, sentiments))\n",
    "#print(combined_list)\n",
    "\n",
    "cols = ['tweet', 'sentiment']\n",
    "\n",
    "data = pd.DataFrame.from_records(combined_list, columns=cols)\n",
    "\n",
    "print(data)"
   ]
  },
  {
   "cell_type": "code",
   "execution_count": 83,
   "metadata": {},
   "outputs": [
    {
     "name": "stdout",
     "output_type": "stream",
     "text": [
      "(100,)\n",
      "(100,)\n"
     ]
    }
   ],
   "source": [
    "X = data['tweet']\n",
    "y = data['sentiment']\n",
    "\n",
    "print(X.shape)\n",
    "print(y.shape)"
   ]
  },
  {
   "cell_type": "code",
   "execution_count": 84,
   "metadata": {},
   "outputs": [],
   "source": [
    "from sklearn.cross_validation import train_test_split\n",
    "\n",
    "X_train, X_test, y_train, y_test = train_test_split(X, y, random_state=1, stratify=y)"
   ]
  },
  {
   "cell_type": "code",
   "execution_count": 85,
   "metadata": {},
   "outputs": [],
   "source": [
    "from sklearn.feature_extraction.text import CountVectorizer\n",
    "\n",
    "vect = CountVectorizer()\n",
    "\n",
    "X_train_dtm = vect.fit_transform(X_train)\n"
   ]
  },
  {
   "cell_type": "code",
   "execution_count": 86,
   "metadata": {},
   "outputs": [],
   "source": [
    "# the Vocabulary\n",
    "#vect.get_feature_names()"
   ]
  },
  {
   "cell_type": "code",
   "execution_count": 87,
   "metadata": {},
   "outputs": [
    {
     "data": {
      "text/plain": [
       "670"
      ]
     },
     "execution_count": 87,
     "metadata": {},
     "output_type": "execute_result"
    }
   ],
   "source": [
    "# vocabulary length\n",
    "len(vect.get_feature_names())"
   ]
  },
  {
   "cell_type": "code",
   "execution_count": 88,
   "metadata": {},
   "outputs": [],
   "source": [
    "from sklearn.naive_bayes import MultinomialNB\n",
    "\n",
    "nb = MultinomialNB().fit(X_train_dtm, y_train)\n"
   ]
  },
  {
   "cell_type": "code",
   "execution_count": 89,
   "metadata": {},
   "outputs": [],
   "source": [
    "X_test_dtm = vect.transform(X_test)\n",
    "\n",
    "y_pred = nb.predict(X_test_dtm)"
   ]
  },
  {
   "cell_type": "code",
   "execution_count": 90,
   "metadata": {},
   "outputs": [
    {
     "data": {
      "text/plain": [
       "0.8"
      ]
     },
     "execution_count": 90,
     "metadata": {},
     "output_type": "execute_result"
    }
   ],
   "source": [
    "from sklearn import metrics\n",
    "\n",
    "metrics.accuracy_score(y_test, y_pred)"
   ]
  },
  {
   "cell_type": "code",
   "execution_count": 91,
   "metadata": {},
   "outputs": [
    {
     "name": "stdout",
     "output_type": "stream",
     "text": [
      "Number of False Positive 1     RT @MsPackyetti: Whatever the conversation abo...\n",
      "22    RT @ANI: People of BJP &amp; NDA fear that if ...\n",
      "Name: tweet, dtype: object\n"
     ]
    },
    {
     "data": {
      "text/plain": [
       "1     RT @MsPackyetti: Whatever the conversation abo...\n",
       "22    RT @ANI: People of BJP &amp; NDA fear that if ...\n",
       "Name: tweet, dtype: object"
      ]
     },
     "execution_count": 91,
     "metadata": {},
     "output_type": "execute_result"
    }
   ],
   "source": [
    "# all False positive\n",
    "print('Number of False Positive', X_test[(y_test == 0) & (y_pred == 1)])\n",
    "\n",
    "X_test[(y_test == 0) & (y_pred == 1)]"
   ]
  },
  {
   "cell_type": "code",
   "execution_count": null,
   "metadata": {},
   "outputs": [],
   "source": []
  }
 ],
 "metadata": {
  "kernelspec": {
   "display_name": "Python 3",
   "language": "python",
   "name": "python3"
  },
  "language_info": {
   "codemirror_mode": {
    "name": "ipython",
    "version": 3
   },
   "file_extension": ".py",
   "mimetype": "text/x-python",
   "name": "python",
   "nbconvert_exporter": "python",
   "pygments_lexer": "ipython3",
   "version": "3.5.2"
  }
 },
 "nbformat": 4,
 "nbformat_minor": 2
}
